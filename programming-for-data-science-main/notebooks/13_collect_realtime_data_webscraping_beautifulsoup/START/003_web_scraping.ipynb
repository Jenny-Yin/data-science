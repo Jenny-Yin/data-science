{
 "cells": [
  {
   "cell_type": "markdown",
   "metadata": {
    "id": "rzsyMtqNrzao"
   },
   "source": [
    "# Searching and extracting: `find()`"
   ]
  },
  {
   "cell_type": "code",
   "execution_count": null,
   "metadata": {
    "id": "7EPYWfZQ1Wyk"
   },
   "outputs": [],
   "source": [
    "# import libraries\n",
    "import requests\n",
    "from bs4 import BeautifulSoup\n",
    "import pandas as pd"
   ]
  },
  {
   "cell_type": "markdown",
   "metadata": {
    "id": "dno32tors9X4"
   },
   "source": [
    "## Get HTML into Python"
   ]
  },
  {
   "cell_type": "code",
   "execution_count": null,
   "metadata": {
    "id": "ZxE3qPBftIDx"
   },
   "outputs": [],
   "source": [
    "# assign HTML url to varible: url\n",
    "url =\"https://webscraper.io/test-sites/e-commerce/allinone/computers/laptops\"\n",
    "\n",
    "# get the HTML from url and assign to variable: page\n",
    "page = requests.get(url)\n",
    "page # The HTTP 200 OK success status response code = request has succeeded."
   ]
  },
  {
   "cell_type": "code",
   "execution_count": null,
   "metadata": {
    "id": "etHGz7ORsSl6"
   },
   "outputs": [],
   "source": [
    "# grab the HTML as text(string)\n",
    "# parses it into Python and assign to variable: soup\n",
    "soup = BeautifulSoup(page.text,\"lxml\")\n",
    "soup # retruns the HTML "
   ]
  },
  {
   "cell_type": "markdown",
   "metadata": {
    "id": "RWTgVYVqtt7X"
   },
   "source": [
    "## Find\n",
    "`find()` is the main function used to search and filter HTML. For example, you can find attributes and retunr any matches.    "
   ]
  },
  {
   "cell_type": "code",
   "execution_count": null,
   "metadata": {
    "id": "42GdasxptwRh"
   },
   "outputs": [],
   "source": [
    "# find header\n"
   ]
  },
  {
   "cell_type": "code",
   "execution_count": null,
   "metadata": {
    "id": "h8ZwGp-rtyZr"
   },
   "outputs": [],
   "source": [
    "# return header\n"
   ]
  },
  {
   "cell_type": "markdown",
   "metadata": {
    "id": "-jWAlTm82dM9"
   },
   "source": [
    "## So what the difference?\n",
    "Imagine you want to find a particular div. Well, `soup.div` will only return the first div while `soup.find('div', {'class':'caption'})` return the exact div you are looking for."
   ]
  },
  {
   "cell_type": "code",
   "execution_count": null,
   "metadata": {
    "id": "XVzKsOiW2Roc"
   },
   "outputs": [],
   "source": [
    "# returns the first dic, `container` which conatains many other tags, including divs\n"
   ]
  },
  {
   "cell_type": "code",
   "execution_count": null,
   "metadata": {
    "id": "emX3D_lB3Q3k"
   },
   "outputs": [],
   "source": [
    "# only returns the caption div\n"
   ]
  },
  {
   "cell_type": "code",
   "execution_count": null,
   "metadata": {
    "id": "zhZsWBW37Mfe"
   },
   "outputs": [],
   "source": [
    "# only returns the price of h4 with a class of pull-right price\n"
   ]
  },
  {
   "cell_type": "code",
   "execution_count": null,
   "metadata": {
    "id": "lHYfThH_FCzn"
   },
   "outputs": [],
   "source": [
    "# you ca use this method when using common tags. Only works for popular tags.\n"
   ]
  },
  {
   "cell_type": "code",
   "execution_count": null,
   "metadata": {
    "id": "vYhnGnzcGbhs"
   },
   "outputs": [],
   "source": [
    "# only returns the div with an id of layout-footer. Works with all tags.\n"
   ]
  },
  {
   "cell_type": "markdown",
   "metadata": {
    "id": "3dzMG1VAHq6H"
   },
   "source": [
    "## Retrurn price as a string"
   ]
  },
  {
   "cell_type": "code",
   "execution_count": null,
   "metadata": {
    "id": "If8Kw9aR7UrH"
   },
   "outputs": [],
   "source": [
    "# assign the h4 tag with class pull-right price as variable: h4_price\n",
    "\n",
    "# convert to string and return price\n"
   ]
  },
  {
   "cell_type": "markdown",
   "metadata": {
    "id": "iLC8eStOHzE_"
   },
   "source": [
    "## How about the second price?\n",
    "So far we have pulled the price of the first h4. To return the price of the other h4, you will need to use `find_all()`—up next."
   ]
  }
 ],
 "metadata": {
  "colab": {
   "provenance": []
  },
  "kernelspec": {
   "display_name": "Python 3 (ipykernel)",
   "language": "python",
   "name": "python3"
  },
  "language_info": {
   "codemirror_mode": {
    "name": "ipython",
    "version": 3
   },
   "file_extension": ".py",
   "mimetype": "text/x-python",
   "name": "python",
   "nbconvert_exporter": "python",
   "pygments_lexer": "ipython3",
   "version": "3.13.2"
  }
 },
 "nbformat": 4,
 "nbformat_minor": 4
}
